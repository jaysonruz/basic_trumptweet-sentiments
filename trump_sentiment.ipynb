{
 "cells": [
  {
   "cell_type": "code",
   "execution_count": 1,
   "metadata": {},
   "outputs": [],
   "source": [
    "import tweepy\n",
    "from textblob import TextBlob\n",
    "import pandas as pd \n",
    "\n",
    "# Step 1 - Authenticate\n",
    "consumer_key=  'CONSUMER_KEY_HERE'\n",
    "consumer_secret= 'CONSUMER_SECRET_HERE'\n",
    "\n",
    "access_token= 'ACCESS_TOKEN_HERE'\n",
    "access_token_secret= 'ACCESS_TOKEN_SECRET_HERE'\n",
    "\n",
    "auth = tweepy.OAuthHandler(consumer_key, consumer_secret)\n",
    "auth.set_access_token(access_token, access_token_secret)\n",
    "\n",
    "api = tweepy.API(auth)"
   ]
  },
  {
   "cell_type": "code",
   "execution_count": 2,
   "metadata": {
    "code_folding": []
   },
   "outputs": [],
   "source": [
    "#Step 3 - Retrieve Tweets\n",
    "public_tweets = api.search('trump',count=100)\n",
    "#https://developer.twitter.com/en/docs/api-reference-index.html"
   ]
  },
  {
   "cell_type": "code",
   "execution_count": 6,
   "metadata": {},
   "outputs": [],
   "source": [
    "\n",
    "#CHALLENGE - Instead of printing out each tweet, save each Tweet to a CSV file\n",
    "#and label each one as either 'positive' or 'negative', depending on the sentiment \n",
    "#You can decide the sentiment polarity threshold yourself\n",
    "\n",
    "## creating a dataframe with two columns tweets and sentiments \n",
    "\n",
    "lis = []\n",
    "for tweet in public_tweets:\n",
    "\tlis.append(tweet.text)\n",
    "#\tprint(tweet.text)\n",
    "    \n",
    "    #Step 4 Perform Sentiment Analysis on Tweets\n",
    "#\tanalysis = TextBlob(tweet.text)\n",
    "#\tprint(analysis.sentiment)\n",
    "#print(\"\")\n",
    "\n",
    "\n",
    "df=pd.DataFrame(lis,columns=['tweets'])\n",
    "\n",
    "#len(df)\n",
    "\n",
    "l=[]\n",
    "for i in range(len(df)):\n",
    "    x=TextBlob(lis[i])\n",
    "    if x.sentiment.polarity > 0.000:\n",
    "        l.append('positive')\n",
    "    else:\n",
    "        l.append('negative')\n",
    "        \n",
    "\n",
    "#len(l)\n",
    "df['sentiment']=l"
   ]
  },
  {
   "cell_type": "code",
   "execution_count": 7,
   "metadata": {},
   "outputs": [
    {
     "data": {
      "text/html": [
       "<div>\n",
       "<style scoped>\n",
       "    .dataframe tbody tr th:only-of-type {\n",
       "        vertical-align: middle;\n",
       "    }\n",
       "\n",
       "    .dataframe tbody tr th {\n",
       "        vertical-align: top;\n",
       "    }\n",
       "\n",
       "    .dataframe thead th {\n",
       "        text-align: right;\n",
       "    }\n",
       "</style>\n",
       "<table border=\"1\" class=\"dataframe\">\n",
       "  <thead>\n",
       "    <tr style=\"text-align: right;\">\n",
       "      <th></th>\n",
       "      <th>tweets</th>\n",
       "      <th>sentiment</th>\n",
       "    </tr>\n",
       "  </thead>\n",
       "  <tbody>\n",
       "    <tr>\n",
       "      <th>0</th>\n",
       "      <td>RT @KaitMarieox: I went undercover at @UCLA as...</td>\n",
       "      <td>negative</td>\n",
       "    </tr>\n",
       "    <tr>\n",
       "      <th>1</th>\n",
       "      <td>RT @SenSchumer: I thought @realDonaldTrump &amp;am...</td>\n",
       "      <td>negative</td>\n",
       "    </tr>\n",
       "    <tr>\n",
       "      <th>2</th>\n",
       "      <td>RT @RVAwonk: Per Mueller's Oct 2018 indictment...</td>\n",
       "      <td>negative</td>\n",
       "    </tr>\n",
       "    <tr>\n",
       "      <th>3</th>\n",
       "      <td>RT @thehill: Lawyer who wrote special counsel ...</td>\n",
       "      <td>positive</td>\n",
       "    </tr>\n",
       "    <tr>\n",
       "      <th>4</th>\n",
       "      <td>RT @LegendaryEnergy: The entire media lied in ...</td>\n",
       "      <td>positive</td>\n",
       "    </tr>\n",
       "    <tr>\n",
       "      <th>5</th>\n",
       "      <td>RT @ClimateAudit: many climate zealots were eq...</td>\n",
       "      <td>positive</td>\n",
       "    </tr>\n",
       "    <tr>\n",
       "      <th>6</th>\n",
       "      <td>RT @Shareblue: Trump is working hard to make c...</td>\n",
       "      <td>negative</td>\n",
       "    </tr>\n",
       "    <tr>\n",
       "      <th>7</th>\n",
       "      <td>@voxproveritate @WilliamSeemore @Sarah_SKG_198...</td>\n",
       "      <td>negative</td>\n",
       "    </tr>\n",
       "    <tr>\n",
       "      <th>8</th>\n",
       "      <td>RT @cardenaldo: Los \"grandes diarios de Améric...</td>\n",
       "      <td>negative</td>\n",
       "    </tr>\n",
       "    <tr>\n",
       "      <th>9</th>\n",
       "      <td>RT @ACTBrigitte: MSNBC and CNN should be asham...</td>\n",
       "      <td>positive</td>\n",
       "    </tr>\n",
       "  </tbody>\n",
       "</table>\n",
       "</div>"
      ],
      "text/plain": [
       "                                              tweets sentiment\n",
       "0  RT @KaitMarieox: I went undercover at @UCLA as...  negative\n",
       "1  RT @SenSchumer: I thought @realDonaldTrump &am...  negative\n",
       "2  RT @RVAwonk: Per Mueller's Oct 2018 indictment...  negative\n",
       "3  RT @thehill: Lawyer who wrote special counsel ...  positive\n",
       "4  RT @LegendaryEnergy: The entire media lied in ...  positive\n",
       "5  RT @ClimateAudit: many climate zealots were eq...  positive\n",
       "6  RT @Shareblue: Trump is working hard to make c...  negative\n",
       "7  @voxproveritate @WilliamSeemore @Sarah_SKG_198...  negative\n",
       "8  RT @cardenaldo: Los \"grandes diarios de Améric...  negative\n",
       "9  RT @ACTBrigitte: MSNBC and CNN should be asham...  positive"
      ]
     },
     "execution_count": 7,
     "metadata": {},
     "output_type": "execute_result"
    }
   ],
   "source": [
    "df.head(10)"
   ]
  },
  {
   "cell_type": "code",
   "execution_count": 5,
   "metadata": {},
   "outputs": [],
   "source": [
    "#df.to_csv('trump_retweets.csv')"
   ]
  }
 ],
 "metadata": {
  "kernelspec": {
   "display_name": "Python 3",
   "language": "python",
   "name": "python3"
  },
  "language_info": {
   "codemirror_mode": {
    "name": "ipython",
    "version": 3
   },
   "file_extension": ".py",
   "mimetype": "text/x-python",
   "name": "python",
   "nbconvert_exporter": "python",
   "pygments_lexer": "ipython3",
   "version": "3.7.0"
  },
  "toc": {
   "base_numbering": 1,
   "nav_menu": {},
   "number_sections": true,
   "sideBar": true,
   "skip_h1_title": false,
   "title_cell": "Table of Contents",
   "title_sidebar": "Contents",
   "toc_cell": false,
   "toc_position": {},
   "toc_section_display": true,
   "toc_window_display": false
  },
  "varInspector": {
   "cols": {
    "lenName": 16,
    "lenType": 16,
    "lenVar": 40
   },
   "kernels_config": {
    "python": {
     "delete_cmd_postfix": "",
     "delete_cmd_prefix": "del ",
     "library": "var_list.py",
     "varRefreshCmd": "print(var_dic_list())"
    },
    "r": {
     "delete_cmd_postfix": ") ",
     "delete_cmd_prefix": "rm(",
     "library": "var_list.r",
     "varRefreshCmd": "cat(var_dic_list()) "
    }
   },
   "types_to_exclude": [
    "module",
    "function",
    "builtin_function_or_method",
    "instance",
    "_Feature"
   ],
   "window_display": true
  }
 },
 "nbformat": 4,
 "nbformat_minor": 2
}
